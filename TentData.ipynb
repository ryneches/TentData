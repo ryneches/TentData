{
 "cells": [
  {
   "cell_type": "markdown",
   "metadata": {},
   "source": [
    "# Some data analysis on two person tents\n",
    "\n",
    "Reddit user [AffirmativeTrucker](https://www.reddit.com/user/AffirmativeTrucker) \n",
    "[posted a nice spreadsheet](https://www.reddit.com/r/CampingGear/comments/5rcohh/a_spreadsheet_of_most_two_person_suitable_tents/) of some data on two person tents. I thought perhaps I would plot some regressions instead of going to sleep like a grownup."
   ]
  },
  {
   "cell_type": "code",
   "execution_count": 38,
   "metadata": {
    "collapsed": false
   },
   "outputs": [
    {
     "name": "stdout",
     "output_type": "stream",
     "text": [
      "Populating the interactive namespace from numpy and matplotlib\n"
     ]
    }
   ],
   "source": [
    "%pylab inline\n",
    "import pandas\n",
    "import seaborn"
   ]
  },
  {
   "cell_type": "code",
   "execution_count": 39,
   "metadata": {
    "collapsed": false
   },
   "outputs": [
    {
     "data": {
      "text/html": [
       "<div>\n",
       "<table border=\"1\" class=\"dataframe\">\n",
       "  <thead>\n",
       "    <tr style=\"text-align: right;\">\n",
       "      <th></th>\n",
       "      <th>Tent</th>\n",
       "      <th>Brand</th>\n",
       "      <th>Walls</th>\n",
       "      <th>Packed Weight (oz)</th>\n",
       "      <th>Length (in)</th>\n",
       "      <th>Head Width (in)</th>\n",
       "      <th>Foot Width (in)</th>\n",
       "      <th>Height (in)</th>\n",
       "      <th>Packed Size (in)</th>\n",
       "      <th>Doors</th>\n",
       "      <th>Price</th>\n",
       "      <th>Vestibule Area (sq ft)</th>\n",
       "      <th>Floor Area (sq ft)</th>\n",
       "      <th>Inner Material</th>\n",
       "      <th>Type</th>\n",
       "      <th>Unnamed: 16</th>\n",
       "    </tr>\n",
       "    <tr>\n",
       "      <th>Model</th>\n",
       "      <th></th>\n",
       "      <th></th>\n",
       "      <th></th>\n",
       "      <th></th>\n",
       "      <th></th>\n",
       "      <th></th>\n",
       "      <th></th>\n",
       "      <th></th>\n",
       "      <th></th>\n",
       "      <th></th>\n",
       "      <th></th>\n",
       "      <th></th>\n",
       "      <th></th>\n",
       "      <th></th>\n",
       "      <th></th>\n",
       "      <th></th>\n",
       "    </tr>\n",
       "  </thead>\n",
       "  <tbody>\n",
       "    <tr>\n",
       "      <th>Solar Ultra 2</th>\n",
       "      <td>NaN</td>\n",
       "      <td>Terra Nova</td>\n",
       "      <td>2</td>\n",
       "      <td>16.0</td>\n",
       "      <td>88.5</td>\n",
       "      <td>51.0</td>\n",
       "      <td>33.0</td>\n",
       "      <td>39.4</td>\n",
       "      <td>6 x 15.75</td>\n",
       "      <td>1.0</td>\n",
       "      <td>1620.0</td>\n",
       "      <td>NaN</td>\n",
       "      <td>25.7</td>\n",
       "      <td>Fabric</td>\n",
       "      <td>Freestanding</td>\n",
       "      <td>NaN</td>\n",
       "    </tr>\n",
       "    <tr>\n",
       "      <th>Beard Den 2 Cuben w/Vest + Floor</th>\n",
       "      <td>NaN</td>\n",
       "      <td>Bear Paw WD</td>\n",
       "      <td>1</td>\n",
       "      <td>19.5</td>\n",
       "      <td>94.0</td>\n",
       "      <td>38.0</td>\n",
       "      <td>38.0</td>\n",
       "      <td>48.0</td>\n",
       "      <td>NaN</td>\n",
       "      <td>1.0</td>\n",
       "      <td>564.0</td>\n",
       "      <td>NaN</td>\n",
       "      <td>24.8</td>\n",
       "      <td>Mesh</td>\n",
       "      <td>Trekking Poles</td>\n",
       "      <td>NaN</td>\n",
       "    </tr>\n",
       "    <tr>\n",
       "      <th>Duplex</th>\n",
       "      <td>NaN</td>\n",
       "      <td>ZPacks</td>\n",
       "      <td>1</td>\n",
       "      <td>22.8</td>\n",
       "      <td>90.0</td>\n",
       "      <td>45.0</td>\n",
       "      <td>45.0</td>\n",
       "      <td>48.0</td>\n",
       "      <td>7 x 13</td>\n",
       "      <td>2.0</td>\n",
       "      <td>659.0</td>\n",
       "      <td>NaN</td>\n",
       "      <td>28.1</td>\n",
       "      <td>None</td>\n",
       "      <td>Trekking Poles</td>\n",
       "      <td>NaN</td>\n",
       "    </tr>\n",
       "    <tr>\n",
       "      <th>Triplex</th>\n",
       "      <td>NaN</td>\n",
       "      <td>ZPacks</td>\n",
       "      <td>1</td>\n",
       "      <td>26.4</td>\n",
       "      <td>90.0</td>\n",
       "      <td>60.0</td>\n",
       "      <td>60.0</td>\n",
       "      <td>48.0</td>\n",
       "      <td>NaN</td>\n",
       "      <td>2.0</td>\n",
       "      <td>699.0</td>\n",
       "      <td>NaN</td>\n",
       "      <td>37.5</td>\n",
       "      <td>Mesh</td>\n",
       "      <td>Trekking Poles</td>\n",
       "      <td>NaN</td>\n",
       "    </tr>\n",
       "    <tr>\n",
       "      <th>Duomid Cuben Fiber</th>\n",
       "      <td>NaN</td>\n",
       "      <td>Mountain Laurel Designs</td>\n",
       "      <td>2</td>\n",
       "      <td>26.6</td>\n",
       "      <td>87.0</td>\n",
       "      <td>47.0</td>\n",
       "      <td>47.0</td>\n",
       "      <td>42.0</td>\n",
       "      <td>NaN</td>\n",
       "      <td>1.0</td>\n",
       "      <td>730.0</td>\n",
       "      <td>NaN</td>\n",
       "      <td>28.4</td>\n",
       "      <td>Mesh</td>\n",
       "      <td>Trekking Poles</td>\n",
       "      <td>NaN</td>\n",
       "    </tr>\n",
       "  </tbody>\n",
       "</table>\n",
       "</div>"
      ],
      "text/plain": [
       "                                  Tent                    Brand  Walls  \\\n",
       "Model                                                                    \n",
       "Solar Ultra 2                      NaN               Terra Nova      2   \n",
       "Beard Den 2 Cuben w/Vest + Floor   NaN              Bear Paw WD      1   \n",
       "Duplex                             NaN                   ZPacks      1   \n",
       "Triplex                            NaN                   ZPacks      1   \n",
       "Duomid Cuben Fiber                 NaN  Mountain Laurel Designs      2   \n",
       "\n",
       "                                  Packed Weight (oz)  Length (in)  \\\n",
       "Model                                                               \n",
       "Solar Ultra 2                                   16.0         88.5   \n",
       "Beard Den 2 Cuben w/Vest + Floor                19.5         94.0   \n",
       "Duplex                                          22.8         90.0   \n",
       "Triplex                                         26.4         90.0   \n",
       "Duomid Cuben Fiber                              26.6         87.0   \n",
       "\n",
       "                                  Head Width (in)  Foot Width (in)  \\\n",
       "Model                                                                \n",
       "Solar Ultra 2                                51.0             33.0   \n",
       "Beard Den 2 Cuben w/Vest + Floor             38.0             38.0   \n",
       "Duplex                                       45.0             45.0   \n",
       "Triplex                                      60.0             60.0   \n",
       "Duomid Cuben Fiber                           47.0             47.0   \n",
       "\n",
       "                                  Height (in) Packed Size (in)  Doors   Price  \\\n",
       "Model                                                                           \n",
       "Solar Ultra 2                            39.4        6 x 15.75    1.0  1620.0   \n",
       "Beard Den 2 Cuben w/Vest + Floor         48.0              NaN    1.0   564.0   \n",
       "Duplex                                   48.0           7 x 13    2.0   659.0   \n",
       "Triplex                                  48.0              NaN    2.0   699.0   \n",
       "Duomid Cuben Fiber                       42.0              NaN    1.0   730.0   \n",
       "\n",
       "                                  Vestibule Area (sq ft)  Floor Area (sq ft)  \\\n",
       "Model                                                                          \n",
       "Solar Ultra 2                                        NaN                25.7   \n",
       "Beard Den 2 Cuben w/Vest + Floor                     NaN                24.8   \n",
       "Duplex                                               NaN                28.1   \n",
       "Triplex                                              NaN                37.5   \n",
       "Duomid Cuben Fiber                                   NaN                28.4   \n",
       "\n",
       "                                 Inner Material            Type Unnamed: 16  \n",
       "Model                                                                        \n",
       "Solar Ultra 2                            Fabric    Freestanding         NaN  \n",
       "Beard Den 2 Cuben w/Vest + Floor           Mesh  Trekking Poles         NaN  \n",
       "Duplex                                     None  Trekking Poles         NaN  \n",
       "Triplex                                    Mesh  Trekking Poles         NaN  \n",
       "Duomid Cuben Fiber                         Mesh  Trekking Poles         NaN  "
      ]
     },
     "execution_count": 39,
     "metadata": {},
     "output_type": "execute_result"
    }
   ],
   "source": [
    "df = pandas.DataFrame.from_csv( 'tents.csv', index_col=2 )\n",
    "df.head()"
   ]
  },
  {
   "cell_type": "markdown",
   "metadata": {},
   "source": [
    "## Packed weight vs. Price"
   ]
  },
  {
   "cell_type": "code",
   "execution_count": 63,
   "metadata": {
    "collapsed": false
   },
   "outputs": [
    {
     "data": {
      "text/plain": [
       "<seaborn.axisgrid.FacetGrid at 0x7f360f5ae0d0>"
      ]
     },
     "execution_count": 63,
     "metadata": {},
     "output_type": "execute_result"
    },
    {
     "data": {
      "image/png": "[encoded data removed]",
      "text/plain": [
       "<matplotlib.figure.Figure at 0x7f360f480650>"
      ]
     },
     "metadata": {},
     "output_type": "display_data"
    }
   ],
   "source": [
    "seaborn.lmplot( x='Packed Weight (oz)', y='Price', data=df, size=6)"
   ]
  },
  {
   "cell_type": "markdown",
   "metadata": {},
   "source": [
    "## Floor area vs. Price"
   ]
  },
  {
   "cell_type": "code",
   "execution_count": 64,
   "metadata": {
    "collapsed": false
   },
   "outputs": [
    {
     "data": {
      "text/plain": [
       "<seaborn.axisgrid.FacetGrid at 0x7f36399f1d50>"
      ]
     },
     "execution_count": 64,
     "metadata": {},
     "output_type": "execute_result"
    },
    {
     "data": {
      "image/png": "[encoded data removed]",
      "text/plain": [
       "<matplotlib.figure.Figure at 0x7f36146f2310>"
      ]
     },
     "metadata": {},
     "output_type": "display_data"
    }
   ],
   "source": [
    "seaborn.lmplot( x='Floor Area (sq ft)', y='Price', data=df, size=6)"
   ]
  },
  {
   "cell_type": "markdown",
   "metadata": {},
   "source": [
    "## Floor area vs. Packed weight"
   ]
  },
  {
   "cell_type": "code",
   "execution_count": 65,
   "metadata": {
    "collapsed": false
   },
   "outputs": [
    {
     "data": {
      "text/plain": [
       "<seaborn.axisgrid.FacetGrid at 0x7f36146cd210>"
      ]
     },
     "execution_count": 65,
     "metadata": {},
     "output_type": "execute_result"
    },
    {
     "data": {
      "image/png": "[encoded data removed]",
      "text/plain": [
       "<matplotlib.figure.Figure at 0x7f36145c50d0>"
      ]
     },
     "metadata": {},
     "output_type": "display_data"
    }
   ],
   "source": [
    "seaborn.lmplot( x='Floor Area (sq ft)', y='Packed Weight (oz)', data=df, size=6)"
   ]
  },
  {
   "cell_type": "code",
   "execution_count": null,
   "metadata": {
    "collapsed": true
   },
   "outputs": [],
   "source": []
  }
 ],
 "metadata": {
  "kernelspec": {
   "display_name": "Python 2",
   "language": "python",
   "name": "python2"
  },
  "language_info": {
   "codemirror_mode": {
    "name": "ipython",
    "version": 2
   },
   "file_extension": ".py",
   "mimetype": "text/x-python",
   "name": "python",
   "nbconvert_exporter": "python",
   "pygments_lexer": "ipython2",
   "version": "2.7.10"
  }
 },
 "nbformat": 4,
 "nbformat_minor": 0
}
